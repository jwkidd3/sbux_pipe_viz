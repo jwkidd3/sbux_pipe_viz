{
 "cells": [
  {
   "cell_type": "code",
   "execution_count": null,
   "metadata": {},
   "outputs": [],
   "source": [
    "import locale\n",
    "from time import strptime\n",
    "locale.setlocale(locale.LC_ALL, '')\n",
    "import pandas as pd\n",
    "from matplotlib import pyplot, dates\n",
    "from matplotlib.ticker import FuncFormatter\n",
    "import seaborn as sns\n",
    "\n",
    "def myMonthConverter(s): \n",
    "    return strptime(s,'%B').tm_mon\n",
    "\n",
    "def myValueConverter(s):\n",
    "    return s.replace(',', '.')\n",
    "\n",
    "def fake_dates(x, pos):\n",
    "    \"\"\" Custom formater to turn floats into e.g., 2016-05-08\"\"\"\n",
    "    return dates.num2date(x).strftime('%Y-%m-%d')\n",
    "\n",
    "#Read the csv. Comma separated. Encoding=latin-1\n",
    "#Convert 'month' to numbers and 'value' to floats. \n",
    "df=pd.read_csv('61111-202z-bearbeitet.csv', sep=\";\", \n",
    "                 encoding=\"latin-1\", names=['year', 'month', 'value'],\n",
    "                 converters={'month':myMonthConverter, 'value': myValueConverter})\n",
    "\n",
    "#Convert columns 'year' and 'value' into numerics\n",
    "df['year'] = df['year'].apply(pd.to_numeric, downcast='integer', errors='coerce')\n",
    "df['value'] = df['value'].apply(pd.to_numeric, errors='coerce')\n",
    "\n",
    "#Create new column 'date' based on 'year' and 'month' and convert to date \n",
    "#Create new column 'datenum' as float for being used in the plot\n",
    "df['date'] = df['year'].astype(str) + \"-\" + df['month'].astype(str) + \"-1\"\n",
    "df['datenum'] = dates.datestr2num(df['date'])\n",
    "df['date'] = df['date'].apply(pd.to_datetime, errors='coerce')\n",
    "\n",
    "print(df.dtypes)\n",
    "\n",
    "#Color settings\n",
    "sns.set(color_codes=True)\n",
    "\n",
    "#Plot 'datenum' (=float) and 'value' (=float)\n",
    "fig, ax = pyplot.subplots()\n",
    "sns.regplot('datenum', 'value', data=df, ax=ax)\n",
    "\n",
    "#Create the x-axis which is 'datenum' converted to %Y-%m-%d\n",
    "ax.xaxis.set_major_formatter(FuncFormatter(fake_dates))\n",
    "ax.tick_params(labelrotation=90)\n",
    "fig.tight_layout()\n",
    "   "
   ]
  }
 ],
 "metadata": {
  "kernelspec": {
   "display_name": "Python 3",
   "language": "python",
   "name": "python3"
  },
  "language_info": {
   "codemirror_mode": {
    "name": "ipython",
    "version": 3
   },
   "file_extension": ".py",
   "mimetype": "text/x-python",
   "name": "python",
   "nbconvert_exporter": "python",
   "pygments_lexer": "ipython3",
   "version": "3.7.6"
  }
 },
 "nbformat": 4,
 "nbformat_minor": 2
}
