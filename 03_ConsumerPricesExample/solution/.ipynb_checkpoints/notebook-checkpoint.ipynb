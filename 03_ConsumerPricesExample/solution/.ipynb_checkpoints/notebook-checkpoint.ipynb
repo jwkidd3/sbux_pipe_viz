{
 "cells": [
  {
   "cell_type": "markdown",
   "metadata": {},
   "source": [
    "# Consumer Prices Example\n",
    "\n",
    "Author: Andreas Traut\n",
    "\n",
    "In this example I downloaded the consumer price index from the official website (www.statistikdaten.bayern.de) and worked on these data. I needed to convert months (e.g. \"January\") to a valid date. Because of my German-Switzerland locale setting I needed to convert and numbers to float (which is replacing comma by point). \n",
    "\n",
    "Import csv file from the following link and delete first rows (which contain descriptions): "
   ]
  },
  {
   "cell_type": "raw",
   "metadata": {},
   "source": [
    "https://www.statistikdaten.bayern.de/genesis/online?sequenz=statistikTabellen&selectionname=61111\n",
    "     Code: 61111-202z\t\n",
    "     Inhalt: \"Verbraucherpreisindex (2015=100): Bayern, Verbraucherpreise, Monate, Jahre\""
   ]
  },
  {
   "cell_type": "markdown",
   "metadata": {},
   "source": [
    "The format of the CSV file is as follows:"
   ]
  },
  {
   "cell_type": "raw",
   "metadata": {},
   "source": [
    "1970\tJanuar\t29,6\n",
    "1970\tFebruar\t29,7\n",
    "1970\tMärz\t29,8\n",
    "1970\tApril\t29,8\n",
    "1970\tMai\t    29,9\n",
    "1970\tJuni\t30,0\n",
    "1970\tJuli\t30,0"
   ]
  },
  {
   "cell_type": "code",
   "execution_count": 25,
   "metadata": {},
   "outputs": [
    {
     "data": {
      "text/plain": [
       "'de_DE'"
      ]
     },
     "execution_count": 25,
     "metadata": {},
     "output_type": "execute_result"
    }
   ],
   "source": [
    "import pandas as pd\n",
    "from matplotlib import pyplot, dates\n",
    "from matplotlib.ticker import FuncFormatter\n",
    "import seaborn as sns\n",
    "from time import strptime\n",
    "import locale\n",
    "locale.getdefaultlocale()\n",
    "locale.setlocale(locale.LC_ALL, 'de_DE')"
   ]
  },
  {
   "cell_type": "code",
   "execution_count": 11,
   "metadata": {},
   "outputs": [],
   "source": [
    "df=pd.read_csv('61111-202z-bearbeitet.csv', encoding=\"latin-1\", names=['year', 'month', 'value'])"
   ]
  },
  {
   "cell_type": "markdown",
   "metadata": {},
   "source": [
    "Without the encoding=\"latin-1\" would lead to the error message:"
   ]
  },
  {
   "cell_type": "raw",
   "metadata": {},
   "source": [
    "UnicodeDecodeError: 'utf-8' codec can't decode byte 0xe4 in position 6: invalid continuation byte"
   ]
  },
  {
   "cell_type": "code",
   "execution_count": 12,
   "metadata": {},
   "outputs": [
    {
     "data": {
      "text/html": [
       "<div>\n",
       "<style scoped>\n",
       "    .dataframe tbody tr th:only-of-type {\n",
       "        vertical-align: middle;\n",
       "    }\n",
       "\n",
       "    .dataframe tbody tr th {\n",
       "        vertical-align: top;\n",
       "    }\n",
       "\n",
       "    .dataframe thead th {\n",
       "        text-align: right;\n",
       "    }\n",
       "</style>\n",
       "<table border=\"1\" class=\"dataframe\">\n",
       "  <thead>\n",
       "    <tr style=\"text-align: right;\">\n",
       "      <th></th>\n",
       "      <th>year</th>\n",
       "      <th>month</th>\n",
       "      <th>value</th>\n",
       "    </tr>\n",
       "  </thead>\n",
       "  <tbody>\n",
       "    <tr>\n",
       "      <th>0</th>\n",
       "      <td>1970;Januar;29</td>\n",
       "      <td>6.0</td>\n",
       "      <td>NaN</td>\n",
       "    </tr>\n",
       "    <tr>\n",
       "      <th>1</th>\n",
       "      <td>1970;Februar;29</td>\n",
       "      <td>7.0</td>\n",
       "      <td>NaN</td>\n",
       "    </tr>\n",
       "    <tr>\n",
       "      <th>2</th>\n",
       "      <td>1970;März;29</td>\n",
       "      <td>8.0</td>\n",
       "      <td>NaN</td>\n",
       "    </tr>\n",
       "    <tr>\n",
       "      <th>3</th>\n",
       "      <td>1970;April;29</td>\n",
       "      <td>8.0</td>\n",
       "      <td>NaN</td>\n",
       "    </tr>\n",
       "    <tr>\n",
       "      <th>4</th>\n",
       "      <td>1970;Mai;29</td>\n",
       "      <td>9.0</td>\n",
       "      <td>NaN</td>\n",
       "    </tr>\n",
       "  </tbody>\n",
       "</table>\n",
       "</div>"
      ],
      "text/plain": [
       "              year  month  value\n",
       "0   1970;Januar;29    6.0    NaN\n",
       "1  1970;Februar;29    7.0    NaN\n",
       "2     1970;März;29    8.0    NaN\n",
       "3    1970;April;29    8.0    NaN\n",
       "4      1970;Mai;29    9.0    NaN"
      ]
     },
     "execution_count": 12,
     "metadata": {},
     "output_type": "execute_result"
    }
   ],
   "source": [
    "df.head()"
   ]
  },
  {
   "cell_type": "markdown",
   "metadata": {},
   "source": [
    "This doesn't look good. I needed to change the months (\"Januar\") into numbers and convert the values into floats. I have a 'German-Switzerland.1252' locale setting which requires to replace comma by point. Therefore I defined some small functions as follows: "
   ]
  },
  {
   "cell_type": "code",
   "execution_count": 26,
   "metadata": {},
   "outputs": [],
   "source": [
    "def myMonthConverter(s): \n",
    "    return strptime(s,'%B').tm_mon\n",
    "\n",
    "def myValueConverter(s):\n",
    "    return s.replace(',', '.')\n",
    "\n",
    "def fake_dates(x, pos):\n",
    "    \"\"\" Custom formater to turn floats into e.g., 2016-05-08\"\"\"\n",
    "    return dates.num2date(x).strftime('%Y-%m-%d')\n",
    "\n",
    "#Read the csv. Comma separated. Encoding=latin-1\n",
    "#Convert 'month' to numbers and 'value' to floats. \n",
    "df=pd.read_csv('61111-202z-bearbeitet.csv', sep=\";\", \n",
    "                 encoding=\"latin-1\", names=['year', 'month', 'value'],\n",
    "                 converters={'month':myMonthConverter, 'value': myValueConverter})"
   ]
  },
  {
   "cell_type": "code",
   "execution_count": 6,
   "metadata": {},
   "outputs": [
    {
     "data": {
      "text/html": [
       "<div>\n",
       "<style scoped>\n",
       "    .dataframe tbody tr th:only-of-type {\n",
       "        vertical-align: middle;\n",
       "    }\n",
       "\n",
       "    .dataframe tbody tr th {\n",
       "        vertical-align: top;\n",
       "    }\n",
       "\n",
       "    .dataframe thead th {\n",
       "        text-align: right;\n",
       "    }\n",
       "</style>\n",
       "<table border=\"1\" class=\"dataframe\">\n",
       "  <thead>\n",
       "    <tr style=\"text-align: right;\">\n",
       "      <th></th>\n",
       "      <th>year</th>\n",
       "      <th>month</th>\n",
       "      <th>value</th>\n",
       "    </tr>\n",
       "  </thead>\n",
       "  <tbody>\n",
       "    <tr>\n",
       "      <th>0</th>\n",
       "      <td>1970</td>\n",
       "      <td>1</td>\n",
       "      <td>29.6</td>\n",
       "    </tr>\n",
       "    <tr>\n",
       "      <th>1</th>\n",
       "      <td>1970</td>\n",
       "      <td>2</td>\n",
       "      <td>29.7</td>\n",
       "    </tr>\n",
       "    <tr>\n",
       "      <th>2</th>\n",
       "      <td>1970</td>\n",
       "      <td>3</td>\n",
       "      <td>29.8</td>\n",
       "    </tr>\n",
       "    <tr>\n",
       "      <th>3</th>\n",
       "      <td>1970</td>\n",
       "      <td>4</td>\n",
       "      <td>29.8</td>\n",
       "    </tr>\n",
       "    <tr>\n",
       "      <th>4</th>\n",
       "      <td>1970</td>\n",
       "      <td>5</td>\n",
       "      <td>29.9</td>\n",
       "    </tr>\n",
       "  </tbody>\n",
       "</table>\n",
       "</div>"
      ],
      "text/plain": [
       "   year  month value\n",
       "0  1970      1  29.6\n",
       "1  1970      2  29.7\n",
       "2  1970      3  29.8\n",
       "3  1970      4  29.8\n",
       "4  1970      5  29.9"
      ]
     },
     "execution_count": 6,
     "metadata": {},
     "output_type": "execute_result"
    }
   ],
   "source": [
    "df.head()"
   ]
  },
  {
   "cell_type": "markdown",
   "metadata": {},
   "source": [
    "Now it looks fine."
   ]
  },
  {
   "cell_type": "code",
   "execution_count": 7,
   "metadata": {},
   "outputs": [
    {
     "data": {
      "text/plain": [
       "year      int64\n",
       "month     int64\n",
       "value    object\n",
       "dtype: object"
      ]
     },
     "execution_count": 7,
     "metadata": {},
     "output_type": "execute_result"
    }
   ],
   "source": [
    "df.dtypes"
   ]
  },
  {
   "cell_type": "markdown",
   "metadata": {},
   "source": [
    "Unfortunately the \"value\" is still an \"object\". So I converted it into a numeric."
   ]
  },
  {
   "cell_type": "code",
   "execution_count": 8,
   "metadata": {},
   "outputs": [],
   "source": [
    "#Convert column 'value' into numerics\n",
    "df['value'] = df['value'].apply(pd.to_numeric, errors='coerce')\n",
    "# There is no need to downcast the year to integer, but here is how it would work: \n",
    "# df['year'] = df['year'].apply(pd.to_numeric, downcast='integer', errors='coerce')"
   ]
  },
  {
   "cell_type": "code",
   "execution_count": 9,
   "metadata": {},
   "outputs": [
    {
     "data": {
      "text/plain": [
       "year       int64\n",
       "month      int64\n",
       "value    float64\n",
       "dtype: object"
      ]
     },
     "execution_count": 9,
     "metadata": {},
     "output_type": "execute_result"
    }
   ],
   "source": [
    "df.dtypes"
   ]
  },
  {
   "cell_type": "markdown",
   "metadata": {},
   "source": [
    "Now the \"value\" is an \"float\", which I need to work with the data."
   ]
  },
  {
   "cell_type": "code",
   "execution_count": 10,
   "metadata": {},
   "outputs": [
    {
     "data": {
      "text/html": [
       "<div>\n",
       "<style scoped>\n",
       "    .dataframe tbody tr th:only-of-type {\n",
       "        vertical-align: middle;\n",
       "    }\n",
       "\n",
       "    .dataframe tbody tr th {\n",
       "        vertical-align: top;\n",
       "    }\n",
       "\n",
       "    .dataframe thead th {\n",
       "        text-align: right;\n",
       "    }\n",
       "</style>\n",
       "<table border=\"1\" class=\"dataframe\">\n",
       "  <thead>\n",
       "    <tr style=\"text-align: right;\">\n",
       "      <th></th>\n",
       "      <th>year</th>\n",
       "      <th>month</th>\n",
       "      <th>value</th>\n",
       "    </tr>\n",
       "  </thead>\n",
       "  <tbody>\n",
       "    <tr>\n",
       "      <th>0</th>\n",
       "      <td>1970</td>\n",
       "      <td>1</td>\n",
       "      <td>29.6</td>\n",
       "    </tr>\n",
       "    <tr>\n",
       "      <th>1</th>\n",
       "      <td>1970</td>\n",
       "      <td>2</td>\n",
       "      <td>29.7</td>\n",
       "    </tr>\n",
       "    <tr>\n",
       "      <th>2</th>\n",
       "      <td>1970</td>\n",
       "      <td>3</td>\n",
       "      <td>29.8</td>\n",
       "    </tr>\n",
       "    <tr>\n",
       "      <th>3</th>\n",
       "      <td>1970</td>\n",
       "      <td>4</td>\n",
       "      <td>29.8</td>\n",
       "    </tr>\n",
       "    <tr>\n",
       "      <th>4</th>\n",
       "      <td>1970</td>\n",
       "      <td>5</td>\n",
       "      <td>29.9</td>\n",
       "    </tr>\n",
       "  </tbody>\n",
       "</table>\n",
       "</div>"
      ],
      "text/plain": [
       "   year  month  value\n",
       "0  1970      1   29.6\n",
       "1  1970      2   29.7\n",
       "2  1970      3   29.8\n",
       "3  1970      4   29.8\n",
       "4  1970      5   29.9"
      ]
     },
     "execution_count": 10,
     "metadata": {},
     "output_type": "execute_result"
    }
   ],
   "source": [
    "df.head()"
   ]
  },
  {
   "cell_type": "markdown",
   "metadata": {},
   "source": [
    "As a next step I created new columns \"datenum\" and  \"date\", which I need for the graphics (the regression plot). The column \"datenum\" is a step, which I needed because of the Seaborn regression plot function \"sns.regplot\". First the real date (e.g. \"1970-01-01\") need to be converted to a number (e.g. 719163.0), which is used in the x-Axis of the plot. Then the description of the x-Axis is transformed from 719163.0 back to the real date in a string-format. This seems to be a bit strange, but according to forums this is how it has to be done. "
   ]
  },
  {
   "cell_type": "code",
   "execution_count": 11,
   "metadata": {},
   "outputs": [
    {
     "data": {
      "text/plain": [
       "year                int64\n",
       "month               int64\n",
       "value             float64\n",
       "date       datetime64[ns]\n",
       "datenum           float64\n",
       "dtype: object"
      ]
     },
     "execution_count": 11,
     "metadata": {},
     "output_type": "execute_result"
    }
   ],
   "source": [
    "#Create new column 'date' based on 'year' and 'month' and convert to date \n",
    "#Create new column 'datenum' as float for being used in the plot\n",
    "df['date'] = df['year'].astype(str) + \"-\" + df['month'].astype(str) + \"-1\"\n",
    "df['datenum'] = dates.datestr2num(df['date'])\n",
    "df['date'] = df['date'].apply(pd.to_datetime, errors='coerce')\n",
    "\n",
    "df.dtypes"
   ]
  },
  {
   "cell_type": "code",
   "execution_count": 12,
   "metadata": {},
   "outputs": [
    {
     "data": {
      "text/html": [
       "<div>\n",
       "<style scoped>\n",
       "    .dataframe tbody tr th:only-of-type {\n",
       "        vertical-align: middle;\n",
       "    }\n",
       "\n",
       "    .dataframe tbody tr th {\n",
       "        vertical-align: top;\n",
       "    }\n",
       "\n",
       "    .dataframe thead th {\n",
       "        text-align: right;\n",
       "    }\n",
       "</style>\n",
       "<table border=\"1\" class=\"dataframe\">\n",
       "  <thead>\n",
       "    <tr style=\"text-align: right;\">\n",
       "      <th></th>\n",
       "      <th>year</th>\n",
       "      <th>month</th>\n",
       "      <th>value</th>\n",
       "      <th>date</th>\n",
       "      <th>datenum</th>\n",
       "    </tr>\n",
       "  </thead>\n",
       "  <tbody>\n",
       "    <tr>\n",
       "      <th>0</th>\n",
       "      <td>1970</td>\n",
       "      <td>1</td>\n",
       "      <td>29.6</td>\n",
       "      <td>1970-01-01</td>\n",
       "      <td>719163.0</td>\n",
       "    </tr>\n",
       "    <tr>\n",
       "      <th>1</th>\n",
       "      <td>1970</td>\n",
       "      <td>2</td>\n",
       "      <td>29.7</td>\n",
       "      <td>1970-02-01</td>\n",
       "      <td>719194.0</td>\n",
       "    </tr>\n",
       "    <tr>\n",
       "      <th>2</th>\n",
       "      <td>1970</td>\n",
       "      <td>3</td>\n",
       "      <td>29.8</td>\n",
       "      <td>1970-03-01</td>\n",
       "      <td>719222.0</td>\n",
       "    </tr>\n",
       "    <tr>\n",
       "      <th>3</th>\n",
       "      <td>1970</td>\n",
       "      <td>4</td>\n",
       "      <td>29.8</td>\n",
       "      <td>1970-04-01</td>\n",
       "      <td>719253.0</td>\n",
       "    </tr>\n",
       "    <tr>\n",
       "      <th>4</th>\n",
       "      <td>1970</td>\n",
       "      <td>5</td>\n",
       "      <td>29.9</td>\n",
       "      <td>1970-05-01</td>\n",
       "      <td>719283.0</td>\n",
       "    </tr>\n",
       "  </tbody>\n",
       "</table>\n",
       "</div>"
      ],
      "text/plain": [
       "   year  month  value       date   datenum\n",
       "0  1970      1   29.6 1970-01-01  719163.0\n",
       "1  1970      2   29.7 1970-02-01  719194.0\n",
       "2  1970      3   29.8 1970-03-01  719222.0\n",
       "3  1970      4   29.8 1970-04-01  719253.0\n",
       "4  1970      5   29.9 1970-05-01  719283.0"
      ]
     },
     "execution_count": 12,
     "metadata": {},
     "output_type": "execute_result"
    }
   ],
   "source": [
    "df.head()"
   ]
  },
  {
   "cell_type": "markdown",
   "metadata": {},
   "source": [
    "Finally I have everything for the regression Plot (regplot). I use \"Seaborn\" for this. See http://seaborn.pydata.org/"
   ]
  },
  {
   "cell_type": "code",
   "execution_count": 13,
   "metadata": {},
   "outputs": [
    {
     "data": {
      "image/png": "[encoded data removed]",
      "text/plain": [
       "<Figure size 432x288 with 1 Axes>"
      ]
     },
     "metadata": {},
     "output_type": "display_data"
    }
   ],
   "source": [
    "#Color settings\n",
    "sns.set(color_codes=True)\n",
    "\n",
    "#Plot 'datenum' (=float) and 'value' (=float)\n",
    "fig, ax = pyplot.subplots()\n",
    "sns.regplot('datenum', 'value', data=df, ax=ax)\n",
    "\n",
    "#Create the x-axis which is 'datenum' converted to %Y-%m-%d\n",
    "ax.xaxis.set_major_formatter(FuncFormatter(fake_dates))\n",
    "ax.tick_params(labelrotation=90)\n",
    "fig.tight_layout()"
   ]
  },
  {
   "cell_type": "markdown",
   "metadata": {},
   "source": [
    "Now let's examine the increments (absolute and relative):"
   ]
  },
  {
   "cell_type": "code",
   "execution_count": 14,
   "metadata": {},
   "outputs": [
    {
     "data": {
      "image/png": "[encoded data removed]",
      "text/plain": [
       "<Figure size 432x288 with 2 Axes>"
      ]
     },
     "metadata": {},
     "output_type": "display_data"
    }
   ],
   "source": [
    "import matplotlib.ticker as mtick\n",
    "from pandas.plotting import register_matplotlib_converters\n",
    "register_matplotlib_converters()\n",
    "\n",
    "#Examine increments (absolute and relative)\n",
    "df['increment_abs'] = df['value']-df['value'].shift(+1)\n",
    "df['increment_rel'] = (1-df['value'].shift(+1)/df['value'])*100\n",
    "\n",
    "#Replace \"NaN\" by 0\n",
    "df['increment_abs'].fillna(0, inplace=True)\n",
    "df['increment_rel'].fillna(0, inplace=True)\n",
    "\n",
    "figin, axin = pyplot.subplots(2)\n",
    "axin[0].plot(df['date'], df['increment_abs'])\n",
    "axin[1].plot(df['date'], df['increment_rel'])\n",
    "\n",
    "#Range of axis\n",
    "axin[0].set_ylim([-1.1, +1.1])\n",
    "axin[1].set_ylim([-1.1, +1.7])\n",
    "\n",
    "#Title of axis\n",
    "axin[0].set_title('absolute increment')\n",
    "axin[1].set_title('relative increment')\n",
    "for ax in figin.get_axes(): \n",
    "    ax.label_outer()\n",
    "\n",
    "#Format y axis in percent\n",
    "axin[1].yaxis.set_major_formatter(mtick.PercentFormatter(decimals=0))"
   ]
  },
  {
   "cell_type": "markdown",
   "metadata": {},
   "source": [
    "Perhaps one can say that the consumer prices grew more evenly between 1970 and 1995 and that the growth was almost entirely positive. On the other hand, the changes between 1995 and 2020 were somewhat more volatile and increases (positive changes of consumer prices) alternated with decreases (negative changes)."
   ]
  },
  {
   "cell_type": "markdown",
   "metadata": {},
   "source": [
    "Now let go back to the original Dataframe: "
   ]
  },
  {
   "cell_type": "code",
   "execution_count": 26,
   "metadata": {},
   "outputs": [
    {
     "data": {
      "text/html": [
       "<div>\n",
       "<style scoped>\n",
       "    .dataframe tbody tr th:only-of-type {\n",
       "        vertical-align: middle;\n",
       "    }\n",
       "\n",
       "    .dataframe tbody tr th {\n",
       "        vertical-align: top;\n",
       "    }\n",
       "\n",
       "    .dataframe thead th {\n",
       "        text-align: right;\n",
       "    }\n",
       "</style>\n",
       "<table border=\"1\" class=\"dataframe\">\n",
       "  <thead>\n",
       "    <tr style=\"text-align: right;\">\n",
       "      <th></th>\n",
       "      <th>year</th>\n",
       "      <th>month</th>\n",
       "      <th>value</th>\n",
       "      <th>date</th>\n",
       "      <th>datenum</th>\n",
       "      <th>increment_abs</th>\n",
       "      <th>increment_rel</th>\n",
       "    </tr>\n",
       "  </thead>\n",
       "  <tbody>\n",
       "    <tr>\n",
       "      <th>0</th>\n",
       "      <td>1970</td>\n",
       "      <td>1</td>\n",
       "      <td>29.6</td>\n",
       "      <td>1970-01-01</td>\n",
       "      <td>719163.0</td>\n",
       "      <td>0.0</td>\n",
       "      <td>0.000000</td>\n",
       "    </tr>\n",
       "    <tr>\n",
       "      <th>1</th>\n",
       "      <td>1970</td>\n",
       "      <td>2</td>\n",
       "      <td>29.7</td>\n",
       "      <td>1970-02-01</td>\n",
       "      <td>719194.0</td>\n",
       "      <td>0.1</td>\n",
       "      <td>0.336700</td>\n",
       "    </tr>\n",
       "    <tr>\n",
       "      <th>2</th>\n",
       "      <td>1970</td>\n",
       "      <td>3</td>\n",
       "      <td>29.8</td>\n",
       "      <td>1970-03-01</td>\n",
       "      <td>719222.0</td>\n",
       "      <td>0.1</td>\n",
       "      <td>0.335570</td>\n",
       "    </tr>\n",
       "    <tr>\n",
       "      <th>3</th>\n",
       "      <td>1970</td>\n",
       "      <td>4</td>\n",
       "      <td>29.8</td>\n",
       "      <td>1970-04-01</td>\n",
       "      <td>719253.0</td>\n",
       "      <td>0.0</td>\n",
       "      <td>0.000000</td>\n",
       "    </tr>\n",
       "    <tr>\n",
       "      <th>4</th>\n",
       "      <td>1970</td>\n",
       "      <td>5</td>\n",
       "      <td>29.9</td>\n",
       "      <td>1970-05-01</td>\n",
       "      <td>719283.0</td>\n",
       "      <td>0.1</td>\n",
       "      <td>0.334448</td>\n",
       "    </tr>\n",
       "    <tr>\n",
       "      <th>...</th>\n",
       "      <td>...</td>\n",
       "      <td>...</td>\n",
       "      <td>...</td>\n",
       "      <td>...</td>\n",
       "      <td>...</td>\n",
       "      <td>...</td>\n",
       "      <td>...</td>\n",
       "    </tr>\n",
       "    <tr>\n",
       "      <th>607</th>\n",
       "      <td>2020</td>\n",
       "      <td>8</td>\n",
       "      <td>NaN</td>\n",
       "      <td>2020-08-01</td>\n",
       "      <td>737638.0</td>\n",
       "      <td>0.0</td>\n",
       "      <td>0.000000</td>\n",
       "    </tr>\n",
       "    <tr>\n",
       "      <th>608</th>\n",
       "      <td>2020</td>\n",
       "      <td>9</td>\n",
       "      <td>NaN</td>\n",
       "      <td>2020-09-01</td>\n",
       "      <td>737669.0</td>\n",
       "      <td>0.0</td>\n",
       "      <td>0.000000</td>\n",
       "    </tr>\n",
       "    <tr>\n",
       "      <th>609</th>\n",
       "      <td>2020</td>\n",
       "      <td>10</td>\n",
       "      <td>NaN</td>\n",
       "      <td>2020-10-01</td>\n",
       "      <td>737699.0</td>\n",
       "      <td>0.0</td>\n",
       "      <td>0.000000</td>\n",
       "    </tr>\n",
       "    <tr>\n",
       "      <th>610</th>\n",
       "      <td>2020</td>\n",
       "      <td>11</td>\n",
       "      <td>NaN</td>\n",
       "      <td>2020-11-01</td>\n",
       "      <td>737730.0</td>\n",
       "      <td>0.0</td>\n",
       "      <td>0.000000</td>\n",
       "    </tr>\n",
       "    <tr>\n",
       "      <th>611</th>\n",
       "      <td>2020</td>\n",
       "      <td>12</td>\n",
       "      <td>NaN</td>\n",
       "      <td>2020-12-01</td>\n",
       "      <td>737760.0</td>\n",
       "      <td>0.0</td>\n",
       "      <td>0.000000</td>\n",
       "    </tr>\n",
       "  </tbody>\n",
       "</table>\n",
       "<p>612 rows × 7 columns</p>\n",
       "</div>"
      ],
      "text/plain": [
       "     year  month  value       date   datenum  increment_abs  increment_rel\n",
       "0    1970      1   29.6 1970-01-01  719163.0            0.0       0.000000\n",
       "1    1970      2   29.7 1970-02-01  719194.0            0.1       0.336700\n",
       "2    1970      3   29.8 1970-03-01  719222.0            0.1       0.335570\n",
       "3    1970      4   29.8 1970-04-01  719253.0            0.0       0.000000\n",
       "4    1970      5   29.9 1970-05-01  719283.0            0.1       0.334448\n",
       "..    ...    ...    ...        ...       ...            ...            ...\n",
       "607  2020      8    NaN 2020-08-01  737638.0            0.0       0.000000\n",
       "608  2020      9    NaN 2020-09-01  737669.0            0.0       0.000000\n",
       "609  2020     10    NaN 2020-10-01  737699.0            0.0       0.000000\n",
       "610  2020     11    NaN 2020-11-01  737730.0            0.0       0.000000\n",
       "611  2020     12    NaN 2020-12-01  737760.0            0.0       0.000000\n",
       "\n",
       "[612 rows x 7 columns]"
      ]
     },
     "execution_count": 26,
     "metadata": {},
     "output_type": "execute_result"
    }
   ],
   "source": [
    "df"
   ]
  },
  {
   "cell_type": "code",
   "execution_count": 34,
   "metadata": {},
   "outputs": [
    {
     "data": {
      "text/html": [
       "<div>\n",
       "<style scoped>\n",
       "    .dataframe tbody tr th:only-of-type {\n",
       "        vertical-align: middle;\n",
       "    }\n",
       "\n",
       "    .dataframe tbody tr th {\n",
       "        vertical-align: top;\n",
       "    }\n",
       "\n",
       "    .dataframe thead th {\n",
       "        text-align: right;\n",
       "    }\n",
       "</style>\n",
       "<table border=\"1\" class=\"dataframe\">\n",
       "  <thead>\n",
       "    <tr style=\"text-align: right;\">\n",
       "      <th></th>\n",
       "      <th>year</th>\n",
       "      <th>month</th>\n",
       "      <th>value</th>\n",
       "      <th>date</th>\n",
       "      <th>datenum</th>\n",
       "      <th>increment_abs</th>\n",
       "      <th>increment_rel</th>\n",
       "    </tr>\n",
       "  </thead>\n",
       "  <tbody>\n",
       "    <tr>\n",
       "      <th>597</th>\n",
       "      <td>2019</td>\n",
       "      <td>10</td>\n",
       "      <td>106.6</td>\n",
       "      <td>2019-10-01</td>\n",
       "      <td>737333.0</td>\n",
       "      <td>0.1</td>\n",
       "      <td>0.093809</td>\n",
       "    </tr>\n",
       "    <tr>\n",
       "      <th>598</th>\n",
       "      <td>2019</td>\n",
       "      <td>11</td>\n",
       "      <td>105.8</td>\n",
       "      <td>2019-11-01</td>\n",
       "      <td>737364.0</td>\n",
       "      <td>-0.8</td>\n",
       "      <td>-0.756144</td>\n",
       "    </tr>\n",
       "    <tr>\n",
       "      <th>599</th>\n",
       "      <td>2019</td>\n",
       "      <td>12</td>\n",
       "      <td>106.3</td>\n",
       "      <td>2019-12-01</td>\n",
       "      <td>737394.0</td>\n",
       "      <td>0.5</td>\n",
       "      <td>0.470367</td>\n",
       "    </tr>\n",
       "    <tr>\n",
       "      <th>600</th>\n",
       "      <td>2020</td>\n",
       "      <td>1</td>\n",
       "      <td>105.5</td>\n",
       "      <td>2020-01-01</td>\n",
       "      <td>737425.0</td>\n",
       "      <td>-0.8</td>\n",
       "      <td>-0.758294</td>\n",
       "    </tr>\n",
       "    <tr>\n",
       "      <th>601</th>\n",
       "      <td>2020</td>\n",
       "      <td>2</td>\n",
       "      <td>NaN</td>\n",
       "      <td>2020-02-01</td>\n",
       "      <td>737456.0</td>\n",
       "      <td>0.0</td>\n",
       "      <td>0.000000</td>\n",
       "    </tr>\n",
       "    <tr>\n",
       "      <th>602</th>\n",
       "      <td>2020</td>\n",
       "      <td>3</td>\n",
       "      <td>NaN</td>\n",
       "      <td>2020-03-01</td>\n",
       "      <td>737485.0</td>\n",
       "      <td>0.0</td>\n",
       "      <td>0.000000</td>\n",
       "    </tr>\n",
       "    <tr>\n",
       "      <th>603</th>\n",
       "      <td>2020</td>\n",
       "      <td>4</td>\n",
       "      <td>NaN</td>\n",
       "      <td>2020-04-01</td>\n",
       "      <td>737516.0</td>\n",
       "      <td>0.0</td>\n",
       "      <td>0.000000</td>\n",
       "    </tr>\n",
       "    <tr>\n",
       "      <th>604</th>\n",
       "      <td>2020</td>\n",
       "      <td>5</td>\n",
       "      <td>NaN</td>\n",
       "      <td>2020-05-01</td>\n",
       "      <td>737546.0</td>\n",
       "      <td>0.0</td>\n",
       "      <td>0.000000</td>\n",
       "    </tr>\n",
       "    <tr>\n",
       "      <th>605</th>\n",
       "      <td>2020</td>\n",
       "      <td>6</td>\n",
       "      <td>NaN</td>\n",
       "      <td>2020-06-01</td>\n",
       "      <td>737577.0</td>\n",
       "      <td>0.0</td>\n",
       "      <td>0.000000</td>\n",
       "    </tr>\n",
       "    <tr>\n",
       "      <th>606</th>\n",
       "      <td>2020</td>\n",
       "      <td>7</td>\n",
       "      <td>NaN</td>\n",
       "      <td>2020-07-01</td>\n",
       "      <td>737607.0</td>\n",
       "      <td>0.0</td>\n",
       "      <td>0.000000</td>\n",
       "    </tr>\n",
       "    <tr>\n",
       "      <th>607</th>\n",
       "      <td>2020</td>\n",
       "      <td>8</td>\n",
       "      <td>NaN</td>\n",
       "      <td>2020-08-01</td>\n",
       "      <td>737638.0</td>\n",
       "      <td>0.0</td>\n",
       "      <td>0.000000</td>\n",
       "    </tr>\n",
       "    <tr>\n",
       "      <th>608</th>\n",
       "      <td>2020</td>\n",
       "      <td>9</td>\n",
       "      <td>NaN</td>\n",
       "      <td>2020-09-01</td>\n",
       "      <td>737669.0</td>\n",
       "      <td>0.0</td>\n",
       "      <td>0.000000</td>\n",
       "    </tr>\n",
       "    <tr>\n",
       "      <th>609</th>\n",
       "      <td>2020</td>\n",
       "      <td>10</td>\n",
       "      <td>NaN</td>\n",
       "      <td>2020-10-01</td>\n",
       "      <td>737699.0</td>\n",
       "      <td>0.0</td>\n",
       "      <td>0.000000</td>\n",
       "    </tr>\n",
       "    <tr>\n",
       "      <th>610</th>\n",
       "      <td>2020</td>\n",
       "      <td>11</td>\n",
       "      <td>NaN</td>\n",
       "      <td>2020-11-01</td>\n",
       "      <td>737730.0</td>\n",
       "      <td>0.0</td>\n",
       "      <td>0.000000</td>\n",
       "    </tr>\n",
       "    <tr>\n",
       "      <th>611</th>\n",
       "      <td>2020</td>\n",
       "      <td>12</td>\n",
       "      <td>NaN</td>\n",
       "      <td>2020-12-01</td>\n",
       "      <td>737760.0</td>\n",
       "      <td>0.0</td>\n",
       "      <td>0.000000</td>\n",
       "    </tr>\n",
       "  </tbody>\n",
       "</table>\n",
       "</div>"
      ],
      "text/plain": [
       "     year  month  value       date   datenum  increment_abs  increment_rel\n",
       "597  2019     10  106.6 2019-10-01  737333.0            0.1       0.093809\n",
       "598  2019     11  105.8 2019-11-01  737364.0           -0.8      -0.756144\n",
       "599  2019     12  106.3 2019-12-01  737394.0            0.5       0.470367\n",
       "600  2020      1  105.5 2020-01-01  737425.0           -0.8      -0.758294\n",
       "601  2020      2    NaN 2020-02-01  737456.0            0.0       0.000000\n",
       "602  2020      3    NaN 2020-03-01  737485.0            0.0       0.000000\n",
       "603  2020      4    NaN 2020-04-01  737516.0            0.0       0.000000\n",
       "604  2020      5    NaN 2020-05-01  737546.0            0.0       0.000000\n",
       "605  2020      6    NaN 2020-06-01  737577.0            0.0       0.000000\n",
       "606  2020      7    NaN 2020-07-01  737607.0            0.0       0.000000\n",
       "607  2020      8    NaN 2020-08-01  737638.0            0.0       0.000000\n",
       "608  2020      9    NaN 2020-09-01  737669.0            0.0       0.000000\n",
       "609  2020     10    NaN 2020-10-01  737699.0            0.0       0.000000\n",
       "610  2020     11    NaN 2020-11-01  737730.0            0.0       0.000000\n",
       "611  2020     12    NaN 2020-12-01  737760.0            0.0       0.000000"
      ]
     },
     "execution_count": 34,
     "metadata": {},
     "output_type": "execute_result"
    }
   ],
   "source": [
    "df.tail(15)"
   ]
  },
  {
   "cell_type": "markdown",
   "metadata": {},
   "source": [
    "Now we want to predict the values for the \"NaN\", which we have from February 2020 on. In order to do this we will first eliminate some columns and the NaNs: "
   ]
  },
  {
   "cell_type": "code",
   "execution_count": 35,
   "metadata": {},
   "outputs": [],
   "source": [
    "df_num = df.dropna(subset=[\"value\"])\n",
    "df_value = df_num[\"value\"]\n",
    "df_prepared = df_num.drop([\"datenum\", \"date\", \"value\", \"increment_abs\", \"increment_rel\"], axis = 1)"
   ]
  },
  {
   "cell_type": "code",
   "execution_count": 36,
   "metadata": {},
   "outputs": [
    {
     "data": {
      "text/html": [
       "<div>\n",
       "<style scoped>\n",
       "    .dataframe tbody tr th:only-of-type {\n",
       "        vertical-align: middle;\n",
       "    }\n",
       "\n",
       "    .dataframe tbody tr th {\n",
       "        vertical-align: top;\n",
       "    }\n",
       "\n",
       "    .dataframe thead th {\n",
       "        text-align: right;\n",
       "    }\n",
       "</style>\n",
       "<table border=\"1\" class=\"dataframe\">\n",
       "  <thead>\n",
       "    <tr style=\"text-align: right;\">\n",
       "      <th></th>\n",
       "      <th>year</th>\n",
       "      <th>month</th>\n",
       "    </tr>\n",
       "  </thead>\n",
       "  <tbody>\n",
       "    <tr>\n",
       "      <th>0</th>\n",
       "      <td>1970</td>\n",
       "      <td>1</td>\n",
       "    </tr>\n",
       "    <tr>\n",
       "      <th>1</th>\n",
       "      <td>1970</td>\n",
       "      <td>2</td>\n",
       "    </tr>\n",
       "    <tr>\n",
       "      <th>2</th>\n",
       "      <td>1970</td>\n",
       "      <td>3</td>\n",
       "    </tr>\n",
       "    <tr>\n",
       "      <th>3</th>\n",
       "      <td>1970</td>\n",
       "      <td>4</td>\n",
       "    </tr>\n",
       "    <tr>\n",
       "      <th>4</th>\n",
       "      <td>1970</td>\n",
       "      <td>5</td>\n",
       "    </tr>\n",
       "    <tr>\n",
       "      <th>...</th>\n",
       "      <td>...</td>\n",
       "      <td>...</td>\n",
       "    </tr>\n",
       "    <tr>\n",
       "      <th>596</th>\n",
       "      <td>2019</td>\n",
       "      <td>9</td>\n",
       "    </tr>\n",
       "    <tr>\n",
       "      <th>597</th>\n",
       "      <td>2019</td>\n",
       "      <td>10</td>\n",
       "    </tr>\n",
       "    <tr>\n",
       "      <th>598</th>\n",
       "      <td>2019</td>\n",
       "      <td>11</td>\n",
       "    </tr>\n",
       "    <tr>\n",
       "      <th>599</th>\n",
       "      <td>2019</td>\n",
       "      <td>12</td>\n",
       "    </tr>\n",
       "    <tr>\n",
       "      <th>600</th>\n",
       "      <td>2020</td>\n",
       "      <td>1</td>\n",
       "    </tr>\n",
       "  </tbody>\n",
       "</table>\n",
       "<p>601 rows × 2 columns</p>\n",
       "</div>"
      ],
      "text/plain": [
       "     year  month\n",
       "0    1970      1\n",
       "1    1970      2\n",
       "2    1970      3\n",
       "3    1970      4\n",
       "4    1970      5\n",
       "..    ...    ...\n",
       "596  2019      9\n",
       "597  2019     10\n",
       "598  2019     11\n",
       "599  2019     12\n",
       "600  2020      1\n",
       "\n",
       "[601 rows x 2 columns]"
      ]
     },
     "execution_count": 36,
     "metadata": {},
     "output_type": "execute_result"
    }
   ],
   "source": [
    "df_prepared"
   ]
  },
  {
   "cell_type": "code",
   "execution_count": 38,
   "metadata": {},
   "outputs": [
    {
     "data": {
      "text/plain": [
       "0       29.6\n",
       "1       29.7\n",
       "2       29.8\n",
       "3       29.8\n",
       "4       29.9\n",
       "       ...  \n",
       "596    106.5\n",
       "597    106.6\n",
       "598    105.8\n",
       "599    106.3\n",
       "600    105.5\n",
       "Name: value, Length: 601, dtype: float64"
      ]
     },
     "execution_count": 38,
     "metadata": {},
     "output_type": "execute_result"
    }
   ],
   "source": [
    "df_value"
   ]
  },
  {
   "cell_type": "markdown",
   "metadata": {},
   "source": [
    "Now we have the \"df_prepared\" and the \"df_value\", which we can use for the LinearRegression (sklearn): "
   ]
  },
  {
   "cell_type": "code",
   "execution_count": 39,
   "metadata": {},
   "outputs": [
    {
     "data": {
      "text/plain": [
       "LinearRegression(copy_X=True, fit_intercept=True, n_jobs=None, normalize=False)"
      ]
     },
     "execution_count": 39,
     "metadata": {},
     "output_type": "execute_result"
    }
   ],
   "source": [
    "from sklearn.linear_model import LinearRegression\n",
    "lin_reg = LinearRegression()\n",
    "lin_reg.fit(df_prepared, df_value)"
   ]
  },
  {
   "cell_type": "markdown",
   "metadata": {},
   "source": [
    "We can now use \"predict\" for example for the last 20 entries: "
   ]
  },
  {
   "cell_type": "code",
   "execution_count": 40,
   "metadata": {},
   "outputs": [],
   "source": [
    "some_data = df_prepared.iloc[-20:]\n",
    "some_values = df_value.iloc[-20:]\n",
    "df_some_predictions = lin_reg.predict(some_data)"
   ]
  },
  {
   "cell_type": "code",
   "execution_count": 41,
   "metadata": {},
   "outputs": [
    {
     "data": {
      "text/plain": [
       "array([105.7954812 , 105.91550781, 106.03553442, 106.15556103,\n",
       "       106.27558764, 106.39561425, 106.51564086, 106.70133425,\n",
       "       106.82136086, 106.94138747, 107.06141408, 107.18144069,\n",
       "       107.3014673 , 107.42149391, 107.54152052, 107.66154713,\n",
       "       107.78157374, 107.90160035, 108.02162696, 108.20732036])"
      ]
     },
     "execution_count": 41,
     "metadata": {},
     "output_type": "execute_result"
    }
   ],
   "source": [
    "df_some_predictions"
   ]
  },
  {
   "cell_type": "markdown",
   "metadata": {},
   "source": [
    "Our linear regression has found the values for the last 20 entries. We can also do the same for the whole dataset as follows:"
   ]
  },
  {
   "cell_type": "code",
   "execution_count": 42,
   "metadata": {},
   "outputs": [
    {
     "name": "stdout",
     "output_type": "stream",
     "text": [
      "Predictions: [32.908015300737134, 33.028041910800766, 33.148068520863944, 33.26809513092758, 33.388121740990755, 33.50814835105439, 33.628174961117566, 33.7482015711812, 33.868228181244376, 33.98825479130801, 34.10828140137119, 34.22830801143482, 34.41400140182486, 34.534028011888495, 34.65405462195167, 34.774081232015305, 34.89410784207848, 35.014134452142116, 35.134161062205294, 35.25418767226893, 35.374214282332105, 35.49424089239574, 35.614267502458915, 35.73429411252255, 35.919987502913045, 36.04001411297668, 36.160040723039856, 36.28006733310349, 36.40009394316667, 36.5201205532303, 36.64014716329348, 36.76017377335711, 36.88020038342029, 37.00022699348392, 37.1202536035471, 37.24028021361073, 37.425973604000774, 37.54600021406441, 37.666026824127584, 37.78605343419122, 37.906080044254395, 38.02610665431803, 38.146133264381206, 38.26615987444484, 38.386186484508016, 38.50621309457165, 38.62623970463483, 38.74626631469846, 38.93195970508896, 39.05198631515259, 39.17201292521577, 39.2920395352794, 39.41206614534258, 39.53209275540621, 39.65211936546939, 39.77214597553302, 39.8921725855962, 40.01219919565983, 40.13222580572301, 40.25225241578664, 40.43794580617714, 40.55797241624077, 40.67799902630395, 40.79802563636758, 40.91805224643076, 41.038078856494394, 41.15810546655757, 41.278132076621205, 41.39815868668438, 41.518185296748015, 41.63821190681119, 41.758238516874826, 41.94393190726487, 42.0639585173285, 42.18398512739168, 42.30401173745531, 42.42403834751849, 42.54406495758212, 42.6640915676453, 42.78411817770893, 42.90414478777211, 43.024171397835744, 43.14419800789892, 43.264224617962554, 43.44991800835305, 43.569944618416685, 43.68997122847986, 43.809997838543495, 43.93002444860667, 44.050051058670306, 44.170077668733484, 44.290104278797116, 44.410130888860294, 44.53015749892393, 44.650184108987105, 44.77021071905074, 44.95590410944078, 45.07593071950441, 45.19595732956759, 45.315983939631224, 45.4360105496944, 45.556037159758034, 45.67606376982121, 45.796090379884845, 45.91611698994802, 46.036143600011656, 46.15617021007483, 46.276196820138466, 46.46189021052896, 46.581916820592596, 46.701943430655774, 46.82197004071941, 46.941996650782585, 47.06202326084622, 47.182049870909395, 47.30207648097303, 47.422103091036206, 47.54212970109984, 47.66215631116302, 47.78218292122665, 47.96787631161669, 48.087902921680325, 48.2079295317435, 48.327956141807135, 48.44798275187031, 48.568009361933946, 48.688035971997124, 48.80806258206076, 48.928089192123934, 49.04811580218757, 49.168142412250745, 49.28816902231438, 49.473862412704875, 49.59388902276851, 49.713915632831686, 49.83394224289532, 49.953968852958496, 50.07399546302213, 50.19402207308531, 50.31404868314894, 50.43407529321212, 50.55410190327575, 50.67412851333893, 50.79415512340256, 50.97984851379306, 51.09987512385669, 51.21990173391987, 51.3399283439835, 51.45995495404668, 51.57998156411031, 51.70000817417349, 51.82003478423712, 51.9400613943003, 52.060088004363934, 52.18011461442711, 52.300141224490744, 52.48583461488079, 52.60586122494442, 52.7258878350076, 52.84591444507123, 52.96594105513441, 53.08596766519804, 53.20599427526122, 53.32602088532485, 53.44604749538803, 53.56607410545166, 53.68610071551484, 53.80612732557847, 53.99182071596897, 54.1118473260326, 54.23187393609578, 54.35190054615941, 54.47192715622259, 54.591953766286224, 54.7119803763494, 54.832006986413035, 54.95203359647621, 55.072060206539845, 55.19208681660302, 55.312113426666656, 55.4978068170567, 55.61783342712033, 55.73786003718351, 55.85788664724714, 55.97791325731032, 56.09793986737395, 56.21796647743713, 56.33799308750076, 56.45801969756394, 56.578046307627574, 56.69807291769075, 56.818099527754384, 57.00379291814488, 57.123819528208514, 57.24384613827169, 57.363872748335325, 57.4838993583985, 57.603925968462136, 57.723952578525314, 57.843979188588946, 57.964005798652124, 58.08403240871576, 58.204059018778935, 58.32408562884257, 58.50977901923261, 58.62980562929624, 58.74983223935942, 58.86985884942305, 58.98988545948623, 59.109912069549864, 59.22993867961304, 59.349965289676675, 59.46999189973985, 59.590018509803485, 59.71004511986666, 59.830071729930296, 60.01576512032079, 60.135791730384426, 60.255818340447604, 60.37584495051124, 60.495871560574415, 60.61589817063805, 60.735924780701225, 60.85595139076486, 60.975978000828036, 61.09600461089167, 61.21603122095485, 61.33605783101848, 61.52175122140852, 61.641777831472155, 61.76180444153533, 61.881831051598965, 62.00185766166214, 62.121884271725776, 62.241910881788954, 62.361937491852586, 62.481964101915764, 62.6019907119794, 62.722017322042575, 62.84204393210621, 63.027737322496705, 63.14776393256034, 63.267790542623516, 63.38781715268715, 63.507843762750326, 63.62787037281396, 63.74789698287714, 63.86792359294077, 63.98795020300395, 64.10797681306758, 64.22800342313076, 64.34803003319439, 64.53372342358489, 64.65375003364852, 64.7737766437117, 64.89380325377533, 65.01382986383851, 65.13385647390214, 65.25388308396532, 65.37390969402895, 65.49393630409213, 65.61396291415576, 65.73398952421894, 65.85401613428257, 66.03970952467262, 66.15973613473625, 66.27976274479943, 66.39978935486306, 66.51981596492624, 66.63984257498987, 66.75986918505305, 66.87989579511668, 66.99992240517986, 67.11994901524349, 67.23997562530667, 67.3600022353703, 67.5456956257608, 67.66572223582443, 67.78574884588761, 67.90577545595124, 68.02580206601442, 68.14582867607805, 68.26585528614123, 68.38588189620486, 68.50590850626804, 68.62593511633168, 68.74596172639485, 68.86598833645849, 69.05168172684853, 69.17170833691216, 69.29173494697534, 69.41176155703897, 69.53178816710215, 69.65181477716578, 69.77184138722896, 69.8918679972926, 70.01189460735577, 70.1319212174194, 70.25194782748258, 70.37197443754621, 70.55766782793671, 70.67769443800034, 70.79772104806352, 70.91774765812715, 71.03777426819033, 71.15780087825397, 71.27782748831714, 71.39785409838078, 71.51788070844395, 71.63790731850759, 71.75793392857076, 71.8779605386344, 72.06365392902444, 72.18368053908807, 72.30370714915125, 72.42373375921488, 72.54376036927806, 72.6637869793417, 72.78381358940487, 72.9038401994685, 73.02386680953168, 73.14389341959532, 73.2639200296585, 73.38394663972213, 73.56964003011262, 73.68966664017626, 73.80969325023943, 73.92971986030307, 74.04974647036624, 74.16977308042988, 74.28979969049306, 74.40982630055669, 74.52985291061987, 74.6498795206835, 74.76990613074668, 74.88993274081031, 75.0756261312008, 75.19565274126444, 75.31567935132762, 75.43570596139125, 75.55573257145443, 75.67575918151806, 75.79578579158124, 75.91581240164487, 76.03583901170805, 76.15586562177168, 76.27589223183486, 76.39591884189849, 76.58161223228853, 76.70163884235217, 76.82166545241535, 76.94169206247898, 77.06171867254216, 77.18174528260579, 77.30177189266897, 77.4217985027326, 77.54182511279578, 77.66185172285941, 77.78187833292259, 77.90190494298622, 78.08759833337672, 78.20762494344035, 78.32765155350353, 78.44767816356716, 78.56770477363034, 78.68773138369397, 78.80775799375715, 78.92778460382078, 79.04781121388396, 79.1678378239476, 79.28786443401077, 79.4078910440744, 79.59358443446445, 79.71361104452808, 79.83363765459126, 79.95366426465489, 80.07369087471807, 80.1937174847817, 80.31374409484488, 80.43377070490851, 80.55379731497169, 80.67382392503532, 80.7938505350985, 80.91387714516213, 81.09957053555263, 81.21959714561626, 81.33962375567944, 81.45965036574307, 81.57967697580625, 81.69970358586988, 81.81973019593306, 81.9397568059967, 82.05978341605987, 82.1798100261235, 82.29983663618668, 82.41986324625032, 82.60555663664036, 82.72558324670399, 82.84560985676717, 82.9656364668308, 83.08566307689398, 83.20568968695761, 83.32571629702079, 83.44574290708442, 83.5657695171476, 83.68579612721123, 83.80582273727441, 83.92584934733804, 84.11154273772854, 84.23156934779217, 84.35159595785535, 84.47162256791898, 84.59164917798216, 84.7116757880458, 84.83170239810897, 84.9517290081726, 85.07175561823578, 85.19178222829942, 85.3118088383626, 85.43183544842623, 85.61752883881672, 85.73755544888036, 85.85758205894354, 85.97760866900717, 86.09763527907035, 86.21766188913398, 86.33768849919716, 86.45771510926079, 86.57774171932397, 86.6977683293876, 86.81779493945078, 86.93782154951441, 87.12351493990445, 87.24354154996809, 87.36356816003126, 87.4835947700949, 87.60362138015807, 87.7236479902217, 87.84367460028488, 87.96370121034852, 88.0837278204117, 88.20375443047533, 88.3237810405385, 88.44380765060214, 88.62950104099264, 88.74952765105627, 88.86955426111945, 88.98958087118308, 89.10960748124626, 89.22963409130989, 89.34966070137307, 89.4696873114367, 89.58971392149988, 89.70974053156351, 89.82976714162669, 89.94979375169032, 90.13548714208036, 90.255513752144, 90.37554036220718, 90.49556697227081, 90.61559358233399, 90.73562019239762, 90.8556468024608, 90.97567341252443, 91.09570002258761, 91.21572663265124, 91.33575324271442, 91.45577985277805, 91.64147324316855, 91.76149985323218, 91.88152646329536, 92.00155307335899, 92.12157968342217, 92.2416062934858, 92.36163290354898, 92.48165951361261, 92.60168612367579, 92.72171273373942, 92.8417393438026, 92.96176595386623, 93.14745934425628, 93.26748595431991, 93.38751256438309, 93.50753917444672, 93.6275657845099, 93.74759239457353, 93.86761900463671, 93.98764561470034, 94.10767222476352, 94.22769883482715, 94.34772544489033, 94.46775205495396, 94.65344544534446, 94.77347205540809, 94.89349866547127, 95.0135252755349, 95.13355188559808, 95.25357849566171, 95.37360510572489, 95.49363171578852, 95.6136583258517, 95.73368493591533, 95.85371154597851, 95.97373815604215, 96.15943154643264, 96.27945815649628, 96.39948476655945, 96.51951137662309, 96.63953798668626, 96.7595645967499, 96.87959120681307, 96.99961781687671, 97.11964442693989, 97.23967103700352, 97.3596976470667, 97.47972425713033, 97.66541764752037, 97.785444257584, 97.90547086764718, 98.02549747771081, 98.14552408777399, 98.26555069783763, 98.3855773079008, 98.50560391796444, 98.62563052802761, 98.74565713809125, 98.86568374815442, 98.98571035821806, 99.17140374860855, 99.29143035867219, 99.41145696873537, 99.531483578799, 99.65151018886218, 99.77153679892581, 99.89156340898899, 100.01159001905262, 100.1316166291158, 100.25164323917943, 100.37166984924261, 100.49169645930624, 100.67738984969628, 100.79741645975992, 100.9174430698231, 101.03746967988673, 101.1574962899499, 101.27752290001354, 101.39754951007671, 101.51757612014035, 101.63760273020353, 101.75762934026716, 101.87765595033034, 101.99768256039397, 102.18337595078447, 102.3034025608481, 102.42342917091128, 102.54345578097491, 102.66348239103809, 102.78350900110172, 102.9035356111649, 103.02356222122853, 103.14358883129171, 103.26361544135534, 103.38364205141852, 103.50366866148215, 103.6893620518722, 103.80938866193583, 103.929415271999, 104.04944188206264, 104.16946849212582, 104.28949510218945, 104.40952171225263, 104.52954832231626, 104.64957493237944, 104.76960154244307, 104.88962815250625, 105.00965476256988, 105.19534815296038, 105.31537476302401, 105.43540137308719, 105.55542798315082, 105.675454593214, 105.79548120327763, 105.91550781334081, 106.03553442340444, 106.15556103346762, 106.27558764353125, 106.39561425359443, 106.51564086365806, 106.70133425404856, 106.8213608641122, 106.94138747417537, 107.061414084239, 107.18144069430218, 107.30146730436581, 107.42149391442899, 107.54152052449263, 107.6615471345558, 107.78157374461944, 107.90160035468261, 108.02162696474625, 108.20732035513629]\n"
     ]
    }
   ],
   "source": [
    "df_predictions = lin_reg.predict(df_prepared)\n",
    "print(\"Predictions:\", list(df_predictions))"
   ]
  },
  {
   "cell_type": "markdown",
   "metadata": {},
   "source": [
    "The \"mean squared error\" can be calculated as follows: "
   ]
  },
  {
   "cell_type": "code",
   "execution_count": 43,
   "metadata": {},
   "outputs": [
    {
     "data": {
      "text/plain": [
       "1.7758794381762595"
      ]
     },
     "execution_count": 43,
     "metadata": {},
     "output_type": "execute_result"
    }
   ],
   "source": [
    "from sklearn.metrics import mean_squared_error\n",
    "import numpy as np\n",
    "lin_mse = mean_squared_error(df_value, df_predictions)\n",
    "lin_rmse = np.sqrt(lin_mse)\n",
    "lin_rmse"
   ]
  }
 ],
 "metadata": {
  "kernelspec": {
   "display_name": "Python 3",
   "language": "python",
   "name": "python3"
  },
  "language_info": {
   "codemirror_mode": {
    "name": "ipython",
    "version": 3
   },
   "file_extension": ".py",
   "mimetype": "text/x-python",
   "name": "python",
   "nbconvert_exporter": "python",
   "pygments_lexer": "ipython3",
   "version": "3.8.5"
  }
 },
 "nbformat": 4,
 "nbformat_minor": 2
}
